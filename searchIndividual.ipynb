{
  "nbformat": 4,
  "nbformat_minor": 0,
  "metadata": {
    "colab": {
      "provenance": [],
      "authorship_tag": "ABX9TyPTymtrDilxx7tfOPXSyt3R",
      "include_colab_link": true
    },
    "kernelspec": {
      "name": "python3",
      "display_name": "Python 3"
    },
    "language_info": {
      "name": "python"
    }
  },
  "cells": [
    {
      "cell_type": "markdown",
      "metadata": {
        "id": "view-in-github",
        "colab_type": "text"
      },
      "source": [
        "<a href=\"https://colab.research.google.com/github/LucasCapSilva/-JwtWithPermissionRole/blob/master/searchIndividual.ipynb\" target=\"_parent\"><img src=\"https://colab.research.google.com/assets/colab-badge.svg\" alt=\"Open In Colab\"/></a>"
      ]
    },
    {
      "cell_type": "code",
      "execution_count": 24,
      "metadata": {
        "id": "L0xIs132XZL8"
      },
      "outputs": [],
      "source": [
        "import requests\n",
        "import time"
      ]
    },
    {
      "cell_type": "code",
      "source": [
        "paginas = 3\n",
        "acertos = []\n",
        "erros = []"
      ],
      "metadata": {
        "id": "umhoKeTtXlJw"
      },
      "execution_count": 40,
      "outputs": []
    },
    {
      "cell_type": "code",
      "source": [
        "for x in range(5):\n",
        "    # time.sleep(35)\n",
        "    x = x+1\n",
        "    vagas= {\"tecnologia\":\"angular\",\"local\":\"brazil\",\"levelExperiencia\":2,\"paginaInicial\":x,\"apagar\":\"Assistente\"}\n",
        "    response = requests.post('http://45.82.75.88:5001/searchVaga', json=vagas)\n",
        "    print(response.status_code)\n",
        "    if(response.status_code == 200):\n",
        "        acertos.append(vagas)\n",
        "    else:\n",
        "        erros.append(vagas)  "
      ],
      "metadata": {
        "id": "AjLSPLOKXt6k"
      },
      "execution_count": null,
      "outputs": []
    },
    {
      "cell_type": "code",
      "source": [
        "for erro in erros:\n",
        "    print(erro)"
      ],
      "metadata": {
        "id": "O-1zDfuKkhtJ"
      },
      "execution_count": 42,
      "outputs": []
    },
    {
      "cell_type": "code",
      "source": [
        "for acerto in acertos:\n",
        "    print(acerto)"
      ],
      "metadata": {
        "colab": {
          "base_uri": "https://localhost:8080/"
        },
        "id": "hkX4QLJjky6k",
        "outputId": "bd935168-b7d0-4dec-e457-53110eeed510"
      },
      "execution_count": 44,
      "outputs": [
        {
          "output_type": "stream",
          "name": "stdout",
          "text": [
            "{'tecnologia': 'angular', 'local': 'brazil', 'levelExperiencia': 2, 'paginaInicial': 1, 'apagar': 'Assistente'}\n",
            "{'tecnologia': 'angular', 'local': 'brazil', 'levelExperiencia': 2, 'paginaInicial': 2, 'apagar': 'Assistente'}\n",
            "{'tecnologia': 'angular', 'local': 'brazil', 'levelExperiencia': 2, 'paginaInicial': 3, 'apagar': 'Assistente'}\n",
            "{'tecnologia': 'angular', 'local': 'brazil', 'levelExperiencia': 2, 'paginaInicial': 4, 'apagar': 'Assistente'}\n",
            "{'tecnologia': 'angular', 'local': 'brazil', 'levelExperiencia': 2, 'paginaInicial': 5, 'apagar': 'Assistente'}\n"
          ]
        }
      ]
    },
    {
      "cell_type": "code",
      "source": [
        "for erro in erros:\n",
        "    # time.sleep(35)\n",
        "    response = requests.post('http://45.82.75.88:5001/searchVaga', json=erro)\n",
        "    print(response.status_code)\n",
        "    print(erro)"
      ],
      "metadata": {
        "id": "aFcyhhZ_k7Gu"
      },
      "execution_count": null,
      "outputs": []
    }
  ]
}