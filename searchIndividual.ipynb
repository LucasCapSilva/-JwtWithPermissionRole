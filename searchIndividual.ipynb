{
  "nbformat": 4,
  "nbformat_minor": 0,
  "metadata": {
    "colab": {
      "provenance": [],
      "authorship_tag": "ABX9TyN5YYRLBk3DQnujYTkJXFQa",
      "include_colab_link": true
    },
    "kernelspec": {
      "name": "python3",
      "display_name": "Python 3"
    },
    "language_info": {
      "name": "python"
    }
  },
  "cells": [
    {
      "cell_type": "markdown",
      "metadata": {
        "id": "view-in-github",
        "colab_type": "text"
      },
      "source": [
        "<a href=\"https://colab.research.google.com/github/LucasCapSilva/-JwtWithPermissionRole/blob/master/searchIndividual.ipynb\" target=\"_parent\"><img src=\"https://colab.research.google.com/assets/colab-badge.svg\" alt=\"Open In Colab\"/></a>"
      ]
    },
    {
      "cell_type": "code",
      "execution_count": 63,
      "metadata": {
        "id": "L0xIs132XZL8"
      },
      "outputs": [],
      "source": [
        "import requests\n",
        "import time"
      ]
    },
    {
      "cell_type": "code",
      "source": [
        "paginas = 100\n",
        "acertos = []\n",
        "erros = []"
      ],
      "metadata": {
        "id": "umhoKeTtXlJw"
      },
      "execution_count": 64,
      "outputs": []
    },
    {
      "cell_type": "code",
      "source": [
        "for x in range(1,paginas,1):\n",
        "    # time.sleep(35)\n",
        "    x = x+1\n",
        "    vagas= {\"tecnologia\":\"python\",\"local\":\"brazil\",\"levelExperiencia\":2,\"paginaInicial\":x,\"apagar\":\"Assistente\"}\n",
        "    response = requests.post('http://45.82.75.88:5001/searchVaga', json=vagas)\n",
        "    print(response.status_code)\n",
        "    if(response.status_code == 200):\n",
        "        acertos.append(vagas)\n",
        "    else:\n",
        "        erros.append(vagas)  "
      ],
      "metadata": {
        "id": "AjLSPLOKXt6k"
      },
      "execution_count": null,
      "outputs": []
    },
    {
      "cell_type": "code",
      "source": [
        "for erro in erros:\n",
        "    print(erro)"
      ],
      "metadata": {
        "id": "O-1zDfuKkhtJ",
        "colab": {
          "base_uri": "https://localhost:8080/"
        },
        "outputId": "7f720779-6f90-412c-c81e-5f368f0acc7c"
      },
      "execution_count": 66,
      "outputs": [
        {
          "output_type": "stream",
          "name": "stdout",
          "text": [
            "{'tecnologia': 'cloud', 'local': 'brazil', 'levelExperiencia': 2, 'paginaInicial': 39, 'apagar': 'Assistente'}\n"
          ]
        }
      ]
    },
    {
      "cell_type": "code",
      "source": [
        "for acerto in acertos:\n",
        "    print(acerto)"
      ],
      "metadata": {
        "id": "hkX4QLJjky6k"
      },
      "execution_count": null,
      "outputs": []
    },
    {
      "cell_type": "code",
      "source": [
        "for erro in erros:\n",
        "    # time.sleep(35)\n",
        "    response = requests.post('http://45.82.75.88:5001/searchVaga', json=erro)\n",
        "    print(response.status_code)\n",
        "    print(erro)"
      ],
      "metadata": {
        "id": "aFcyhhZ_k7Gu",
        "colab": {
          "base_uri": "https://localhost:8080/"
        },
        "outputId": "9a938740-fe53-45db-b37a-25ac304dc12e"
      },
      "execution_count": 67,
      "outputs": [
        {
          "output_type": "stream",
          "name": "stdout",
          "text": [
            "200\n",
            "{'tecnologia': 'cloud', 'local': 'brazil', 'levelExperiencia': 2, 'paginaInicial': 39, 'apagar': 'Assistente'}\n"
          ]
        }
      ]
    }
  ]
}