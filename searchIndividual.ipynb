{
  "nbformat": 4,
  "nbformat_minor": 0,
  "metadata": {
    "colab": {
      "provenance": [],
      "authorship_tag": "ABX9TyMOp5pZb7mbYKfHmS3EaT8W",
      "include_colab_link": true
    },
    "kernelspec": {
      "name": "python3",
      "display_name": "Python 3"
    },
    "language_info": {
      "name": "python"
    }
  },
  "cells": [
    {
      "cell_type": "markdown",
      "metadata": {
        "id": "view-in-github",
        "colab_type": "text"
      },
      "source": [
        "<a href=\"https://colab.research.google.com/github/LucasCapSilva/-JwtWithPermissionRole/blob/master/searchIndividual.ipynb\" target=\"_parent\"><img src=\"https://colab.research.google.com/assets/colab-badge.svg\" alt=\"Open In Colab\"/></a>"
      ]
    },
    {
      "cell_type": "code",
      "execution_count": 16,
      "metadata": {
        "id": "L0xIs132XZL8"
      },
      "outputs": [],
      "source": [
        "import requests\n",
        "import time"
      ]
    },
    {
      "cell_type": "code",
      "source": [
        "paginas = 5\n",
        "acertos = []\n",
        "erros = []"
      ],
      "metadata": {
        "id": "umhoKeTtXlJw"
      },
      "execution_count": 17,
      "outputs": []
    },
    {
      "cell_type": "code",
      "source": [
        "vagas= {\"tecnologia\":\"angular\",\"local\":\"brazil\",\"levelExperiencia\":3,\"paginaInicial\":1,\"apagar\":\"Assistente\"}\n",
        "response = requests.post('http://45.82.75.88:5001/searchVaga', json=vagas)"
      ],
      "metadata": {
        "id": "9_lYm6XyeseR"
      },
      "execution_count": 18,
      "outputs": []
    },
    {
      "cell_type": "code",
      "source": [
        "response.status_code"
      ],
      "metadata": {
        "id": "9U1tk4a8eunW"
      },
      "execution_count": null,
      "outputs": []
    },
    {
      "cell_type": "code",
      "source": [
        "for x in range(5):\n",
        "    time.sleep(35)\n",
        "    vagas= {\"tecnologia\":\"angular\",\"local\":\"brazil\",\"levelExperiencia\":2,\"paginaInicial\":1,\"apagar\":\"Assistente\"}\n",
        "    response = requests.post('http://45.82.75.88:5001/searchVaga', json=vagas)\n",
        "    print(response.status_code)\n",
        "    if(response.status_code == 200):\n",
        "        acertos.append({\"tecnologia\":\"react\",\"local\":\"brazil\",\"levelExperiencia\":2,\"paginaInicial\":1,\"apagar\":'Assistente'})\n",
        "    else:\n",
        "        erros.append({\"tecnologia\":\"react\",\"local\":\"brazil\",\"levelExperiencia\":2,\"paginaInicial\":1,\"apagar\":'Assistente'})  "
      ],
      "metadata": {
        "colab": {
          "base_uri": "https://localhost:8080/"
        },
        "id": "AjLSPLOKXt6k",
        "outputId": "ade3e299-78d7-4dd3-f030-fc7fd5cd5006"
      },
      "execution_count": 20,
      "outputs": [
        {
          "output_type": "stream",
          "name": "stdout",
          "text": [
            "200\n",
            "200\n",
            "200\n",
            "200\n",
            "200\n"
          ]
        }
      ]
    }
  ]
}