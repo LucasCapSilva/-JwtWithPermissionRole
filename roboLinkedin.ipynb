{
  "nbformat": 4,
  "nbformat_minor": 0,
  "metadata": {
    "colab": {
      "provenance": [],
      "authorship_tag": "ABX9TyNL23OXm3JFlOjOzy4gAYRP",
      "include_colab_link": true
    },
    "kernelspec": {
      "name": "python3",
      "display_name": "Python 3"
    },
    "language_info": {
      "name": "python"
    }
  },
  "cells": [
    {
      "cell_type": "markdown",
      "metadata": {
        "id": "view-in-github",
        "colab_type": "text"
      },
      "source": [
        "<a href=\"https://colab.research.google.com/github/LucasCapSilva/-JwtWithPermissionRole/blob/master/roboLinkedin.ipynb\" target=\"_parent\"><img src=\"https://colab.research.google.com/assets/colab-badge.svg\" alt=\"Open In Colab\"/></a>"
      ]
    },
    {
      "cell_type": "code",
      "execution_count": 377,
      "metadata": {
        "id": "ZSLelqbZBi6f"
      },
      "outputs": [],
      "source": [
        "from bs4 import BeautifulSoup as bs\n",
        "import requests\n",
        "import re"
      ]
    },
    {
      "cell_type": "code",
      "source": [
        "title = []\n",
        "subtitle = []\n",
        "location = []\n",
        "dados = []\n",
        "url= []\n",
        "link = ''"
      ],
      "metadata": {
        "id": "y9tkPJj8BlYS"
      },
      "execution_count": 434,
      "outputs": []
    },
    {
      "cell_type": "code",
      "source": [
        "link = 'https://www.linkedin.com/jobs/search?keywords=Java&location=Brazil&locationId=&geoId=106057199&f_TPR=&f_E=3&position=1&pageNum=0'\n",
        "res = requests.get(link) \n",
        "soup = bs(res.text, 'lxml') "
      ],
      "metadata": {
        "id": "MO-p2KArphx7"
      },
      "execution_count": 287,
      "outputs": []
    },
    {
      "cell_type": "code",
      "source": [
        "file = soup.find_all('h3', class_=\"base-search-card__title\")"
      ],
      "metadata": {
        "id": "V1X33sosJQkf"
      },
      "execution_count": 288,
      "outputs": []
    },
    {
      "cell_type": "code",
      "source": [
        "for x in file:\n",
        "  title.append(x.text.strip())"
      ],
      "metadata": {
        "id": "zO7tU25_JnM_"
      },
      "execution_count": 289,
      "outputs": []
    },
    {
      "cell_type": "code",
      "source": [
        "file = soup.find_all('a', class_=\"base-card__full-link absolute top-0 right-0 bottom-0 left-0 p-0 z-[2]\")"
      ],
      "metadata": {
        "id": "Fzfc8tu_PYTd"
      },
      "execution_count": 290,
      "outputs": []
    },
    {
      "cell_type": "code",
      "source": [
        "for x in file:\n",
        "  url.append(x['href'])"
      ],
      "metadata": {
        "id": "btfNrsTzPfN9"
      },
      "execution_count": 291,
      "outputs": []
    },
    {
      "cell_type": "code",
      "source": [
        "file = soup.find_all('h4', class_=\"base-search-card__subtitle\")"
      ],
      "metadata": {
        "id": "YO7E-qpfJ0t-"
      },
      "execution_count": 292,
      "outputs": []
    },
    {
      "cell_type": "code",
      "source": [
        "for x in file:\n",
        "  subtitle.append(x.text.strip())"
      ],
      "metadata": {
        "id": "F8twbXPyKmxa"
      },
      "execution_count": 293,
      "outputs": []
    },
    {
      "cell_type": "code",
      "source": [
        "file = soup.find_all('span', class_=\"job-search-card__location\")"
      ],
      "metadata": {
        "id": "qscjkNiJNfCx"
      },
      "execution_count": 294,
      "outputs": []
    },
    {
      "cell_type": "code",
      "source": [
        "for x in file:\n",
        "  location.append(x.text.strip())"
      ],
      "metadata": {
        "id": "OC3S0ktVNfvP"
      },
      "execution_count": 295,
      "outputs": []
    },
    {
      "cell_type": "code",
      "source": [
        "dados = [];"
      ],
      "metadata": {
        "id": "D6VvfxIfbzqm"
      },
      "execution_count": 376,
      "outputs": []
    },
    {
      "cell_type": "code",
      "source": [
        "for index, val in enumerate(title):\n",
        "    res = requests.get(url[index]) \n",
        "    soup = bs(res.text, 'lxml')\n",
        "    file = soup.find_all('p')\n",
        "    for x in file:\n",
        "        text = text + x.text.strip()\n",
        "    dados.append({'title':title[index], 'content':text, 'subtitle':subtitle[index] , 'location':location[index] })"
      ],
      "metadata": {
        "id": "6yKwM_F2ZY6F"
      },
      "execution_count": 297,
      "outputs": []
    },
    {
      "cell_type": "code",
      "source": [
        "dados[0]"
      ],
      "metadata": {
        "id": "oRoqrH04cFNV"
      },
      "execution_count": null,
      "outputs": []
    },
    {
      "cell_type": "code",
      "source": [
        "def search_vacancies(num_page):\n",
        "  text =\"\"\n",
        "  for x in range(num_page):\n",
        "    title = []\n",
        "    subtitle = []\n",
        "    location = []\n",
        "    url= []\n",
        "    link = 'https://www.linkedin.com/jobs/search?keywords=Java&location=Brazil&locationId=&geoId=106057199&f_TPR=&f_E=3&position=1&pageNum='+str(x)\n",
        "    res = requests.get(link) \n",
        "    soup = bs(res.text, 'lxml')\n",
        "    file = soup.find_all('h3', class_=\"base-search-card__title\") \n",
        "    for x in file:\n",
        "        title.append(x.text.strip())\n",
        "    file = soup.find_all('a', class_=\"base-card__full-link absolute top-0 right-0 bottom-0 left-0 p-0 z-[2]\")\n",
        "    for x in file:\n",
        "        url.append(x['href'])\n",
        "    file = soup.find_all('h4', class_=\"base-search-card__subtitle\")\n",
        "    for x in file:\n",
        "        subtitle.append(x.text.strip())\n",
        "    file = soup.find_all('span', class_=\"job-search-card__location\")\n",
        "    for x in file:\n",
        "        location.append(x.text.strip())\n",
        "    for index, val in enumerate(title):\n",
        "      res = requests.get(url[index]) \n",
        "      soup = bs(res.text, 'lxml')\n",
        "      file = soup.find_all('p')\n",
        "      for x in file:\n",
        "          text = text + x.text.strip()\n",
        "      dados.append({'title':title[index], 'content':text, 'subtitle':subtitle[index] , 'location':location[index] })"
      ],
      "metadata": {
        "id": "wdOmU6xVrJIK"
      },
      "execution_count": 442,
      "outputs": []
    },
    {
      "cell_type": "code",
      "source": [
        "search_vacancies(2)"
      ],
      "metadata": {
        "id": "5itoKmyeqGew"
      },
      "execution_count": 443,
      "outputs": []
    },
    {
      "cell_type": "code",
      "source": [
        "dados[7]"
      ],
      "metadata": {
        "colab": {
          "base_uri": "https://localhost:8080/"
        },
        "id": "0lzvW0HA0gOG",
        "outputId": "a718922d-bb0b-441e-c8db-1ac2d94f8d3a"
      },
      "execution_count": 444,
      "outputs": [
        {
          "output_type": "execute_result",
          "data": {
            "text/plain": [
              "{'title': 'DE&I - Software Developer, Finance Technology',\n",
              " 'content': 'Entre para salvar DE&I Software Developer Engineer I, Intech na Amazon.As indicações dobram suas chances de conseguir uma entrevista na AmazonReceba alertas de novas vagas de Engenheiro de software em: São Paulo, SP.Receber atualizações por e-mail sobre novas vagas de Engenheiro de software em: São Paulo, SPAo criar este alerta de vaga, você aceita o Contrato do Usuário e a Política de Privacidade do LinkedIn. Você pode cancelar a inscrição para receber atualizações por e-mail a qualquer hora.Entre para criar maisSeu alerta de vaga foi definidoClique no link que enviamos por e-mail para  para confirmar seu e-mail e ativar seu alerta de vaga.Entre para criar seu alerta de vaga de Engenheiro de software em: São Paulo, SP.Entre para salvar DE&I Developer I Intech na Amazon.As indicações dobram suas chances de conseguir uma entrevista na AmazonReceba alertas de novas vagas de Engenheiro de software em: São Paulo, SP.Receber atualizações por e-mail sobre novas vagas de Engenheiro de software em: São Paulo, SPAo criar este alerta de vaga, você aceita o Contrato do Usuário e a Política de Privacidade do LinkedIn. Você pode cancelar a inscrição para receber atualizações por e-mail a qualquer hora.Entre para criar maisSeu alerta de vaga foi definidoClique no link que enviamos por e-mail para  para confirmar seu e-mail e ativar seu alerta de vaga.Entre para criar seu alerta de vaga de Engenheiro de software em: São Paulo, SP.Entre para salvar 3621 - Analista de TI Júnior na B3.As indicações dobram suas chances de conseguir uma entrevista na B3Receba alertas de novas vagas de Analista de TI em: São Paulo, SP.Receber atualizações por e-mail sobre novas vagas de Analista de TI em: São Paulo, SPAo criar este alerta de vaga, você aceita o Contrato do Usuário e a Política de Privacidade do LinkedIn. Você pode cancelar a inscrição para receber atualizações por e-mail a qualquer hora.Entre para criar maisSeu alerta de vaga foi definidoClique no link que enviamos por e-mail para  para confirmar seu e-mail e ativar seu alerta de vaga.Entre para criar seu alerta de vaga de Analista de TI em: São Paulo, SP.Entre para salvar Programador de Manutenção - Gtw na Ecogen Brasil.As indicações dobram suas chances de conseguir uma entrevista na Ecogen BrasilReceba alertas de novas vagas de Maintenance Scheduler em: Rio de Janeiro, RJ.Receber atualizações por e-mail sobre novas vagas de Maintenance Scheduler em: Rio de Janeiro, RJAo criar este alerta de vaga, você aceita o Contrato do Usuário e a Política de Privacidade do LinkedIn. Você pode cancelar a inscrição para receber atualizações por e-mail a qualquer hora.Entre para criar maisSeu alerta de vaga foi definidoClique no link que enviamos por e-mail para  para confirmar seu e-mail e ativar seu alerta de vaga.Entre para criar seu alerta de vaga de Maintenance Scheduler em: Rio de Janeiro, RJ.Entre para salvar Desenvolvedor na TopDown Sistemas.Enviar mensagem direta ao anunciante da vaga na TopDown SistemasA TopDown tá expandindo e inovando. Somos uma healthtech sólida e consolidada no mercado, de alta performance e 36 anos de vida, que atende exclusivamente empresas de Saúde Suplementar, como UNIMED´s (as 3 maiores estão com a gente), GNDI, PORTO SEGURO, METLIFE e mais 23 operadoras, administradoras e corretoras de saúde e odonto.Requisitos técnicos:Diferencial: Já ter trabalho na área de Operadoras/Seguradoras de Saúde/Hospitais EX: GNDI, AMIL, UNIMED.Desejável: ASP CLASSICOAtividades a serem desempenhadas: Atuar nos nossos diversos Squads junto aos clientes ou atuando em nossa fábrica, atuando em projetos estratégicos voltados para operadoras de saúde, desenvolvendo e mantendo as funcionalidades do sistema principal das operadoras em um forte ambiente de equipe de aprendizado e inovação.As indicações dobram suas chances de conseguir uma entrevista na TopDown SistemasReceba alertas de novas vagas de Desenvolvedor em: Brasil.Receber atualizações por e-mail sobre novas vagas de Desenvolvedor em: BrasilAo criar este alerta de vaga, você aceita o Contrato do Usuário e a Política de Privacidade do LinkedIn. Você pode cancelar a inscrição para receber atualizações por e-mail a qualquer hora.Entre para criar maisSeu alerta de vaga foi definidoClique no link que enviamos por e-mail para  para confirmar seu e-mail e ativar seu alerta de vaga.Entre para criar seu alerta de vaga de Desenvolvedor em: Brasil.Entre para salvar Programa de Estágio Rio+saneamento na Rio+Saneamento.As indicações dobram suas chances de conseguir uma entrevista na Rio+SaneamentoReceba alertas de novas vagas de Programa de estágio em: Rio de Janeiro, RJ.Receber atualizações por e-mail sobre novas vagas de Programa de estágio em: Rio de Janeiro, RJAo criar este alerta de vaga, você aceita o Contrato do Usuário e a Política de Privacidade do LinkedIn. Você pode cancelar a inscrição para receber atualizações por e-mail a qualquer hora.Entre para criar maisSeu alerta de vaga foi definidoClique no link que enviamos por e-mail para  para confirmar seu e-mail e ativar seu alerta de vaga.Entre para criar seu alerta de vaga de Programa de estágio em: Rio de Janeiro, RJ.Cadastre-se para se candidatar ao cargo de DE&I Software Developer Engineer II na empresa AmazonCadastre-se para se candidatar ao cargo de DE&I Software Developer Engineer II na empresa AmazonEntre para salvar DE&I Software Developer Engineer II na Amazon.As indicações dobram suas chances de conseguir uma entrevista na AmazonReceba alertas de novas vagas de Engenheiro de software em: São Paulo, SP.Receber atualizações por e-mail sobre novas vagas de Engenheiro de software em: São Paulo, SPAo criar este alerta de vaga, você aceita o Contrato do Usuário e a Política de Privacidade do LinkedIn. Você pode cancelar a inscrição para receber atualizações por e-mail a qualquer hora.Entre para criar maisSeu alerta de vaga foi definidoClique no link que enviamos por e-mail para  para confirmar seu e-mail e ativar seu alerta de vaga.Entre para criar seu alerta de vaga de Engenheiro de software em: São Paulo, SP.Entre para salvar DE&I - Software Developer, Finance Technology na Amazon.As indicações dobram suas chances de conseguir uma entrevista na AmazonReceba alertas de novas vagas de Engenheiro de software em: São Paulo, SP.Receber atualizações por e-mail sobre novas vagas de Engenheiro de software em: São Paulo, SPAo criar este alerta de vaga, você aceita o Contrato do Usuário e a Política de Privacidade do LinkedIn. Você pode cancelar a inscrição para receber atualizações por e-mail a qualquer hora.Entre para criar maisSeu alerta de vaga foi definidoClique no link que enviamos por e-mail para  para confirmar seu e-mail e ativar seu alerta de vaga.Entre para criar seu alerta de vaga de Engenheiro de software em: São Paulo, SP.',\n",
              " 'subtitle': 'Amazon',\n",
              " 'location': 'São Paulo, São Paulo, Brazil'}"
            ]
          },
          "metadata": {},
          "execution_count": 444
        }
      ]
    },
    {
      "cell_type": "code",
      "source": [
        "for index, val in enumerate(title):\n",
        "      res = requests.get(url[index]) \n",
        "      soup = bs(res.text, 'lxml')\n",
        "      file = soup.find_all('p')\n",
        "      for x in file:\n",
        "          print(x.text.strip())"
      ],
      "metadata": {
        "id": "AdE0wZVNwmF0"
      },
      "execution_count": null,
      "outputs": []
    }
  ]
}