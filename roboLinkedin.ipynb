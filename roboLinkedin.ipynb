{
  "nbformat": 4,
  "nbformat_minor": 0,
  "metadata": {
    "colab": {
      "provenance": [],
      "authorship_tag": "ABX9TyNwO57U9Bwqz7e+GxkdmXoe",
      "include_colab_link": true
    },
    "kernelspec": {
      "name": "python3",
      "display_name": "Python 3"
    },
    "language_info": {
      "name": "python"
    }
  },
  "cells": [
    {
      "cell_type": "markdown",
      "metadata": {
        "id": "view-in-github",
        "colab_type": "text"
      },
      "source": [
        "<a href=\"https://colab.research.google.com/github/LucasCapSilva/-JwtWithPermissionRole/blob/master/roboLinkedin.ipynb\" target=\"_parent\"><img src=\"https://colab.research.google.com/assets/colab-badge.svg\" alt=\"Open In Colab\"/></a>"
      ]
    },
    {
      "cell_type": "code",
      "execution_count": 192,
      "metadata": {
        "id": "ZSLelqbZBi6f"
      },
      "outputs": [],
      "source": [
        "from bs4 import BeautifulSoup as bs\n",
        "import requests\n",
        "import re"
      ]
    },
    {
      "cell_type": "code",
      "source": [
        "title = []\n",
        "subtitle = []\n",
        "location = []\n",
        "dados = []\n",
        "url= []\n",
        "link = 'https://www.linkedin.com/jobs/search?keywords=Java&location=Brazil&locationId=&geoId=106057199&f_TPR=&f_E=3&position=1&pageNum=0'\n",
        "res = requests.get(link) \n",
        "soup = bs(res.text, 'lxml') "
      ],
      "metadata": {
        "id": "y9tkPJj8BlYS"
      },
      "execution_count": 241,
      "outputs": []
    },
    {
      "cell_type": "code",
      "source": [
        "file = soup.find_all('h3', class_=\"base-search-card__title\")"
      ],
      "metadata": {
        "id": "V1X33sosJQkf"
      },
      "execution_count": 242,
      "outputs": []
    },
    {
      "cell_type": "code",
      "source": [
        "for x in file:\n",
        "  title.append(x.text.strip())"
      ],
      "metadata": {
        "id": "zO7tU25_JnM_"
      },
      "execution_count": 243,
      "outputs": []
    },
    {
      "cell_type": "code",
      "source": [
        "file = soup.find_all('a', class_=\"base-card__full-link absolute top-0 right-0 bottom-0 left-0 p-0 z-[2]\")"
      ],
      "metadata": {
        "id": "Fzfc8tu_PYTd"
      },
      "execution_count": 244,
      "outputs": []
    },
    {
      "cell_type": "code",
      "source": [
        "for x in file:\n",
        "  url.append(x['href'])"
      ],
      "metadata": {
        "id": "btfNrsTzPfN9"
      },
      "execution_count": 245,
      "outputs": []
    },
    {
      "cell_type": "code",
      "source": [
        "file = soup.find_all('h4', class_=\"base-search-card__subtitle\")"
      ],
      "metadata": {
        "id": "YO7E-qpfJ0t-"
      },
      "execution_count": 246,
      "outputs": []
    },
    {
      "cell_type": "code",
      "source": [
        "for x in file:\n",
        "  subtitle.append(x.text.strip())"
      ],
      "metadata": {
        "id": "F8twbXPyKmxa"
      },
      "execution_count": 247,
      "outputs": []
    },
    {
      "cell_type": "code",
      "source": [
        "file = soup.find_all('span', class_=\"job-search-card__location\")"
      ],
      "metadata": {
        "id": "qscjkNiJNfCx"
      },
      "execution_count": 248,
      "outputs": []
    },
    {
      "cell_type": "code",
      "source": [
        "for x in file:\n",
        "  location.append(x.text.strip())"
      ],
      "metadata": {
        "id": "OC3S0ktVNfvP"
      },
      "execution_count": 249,
      "outputs": []
    },
    {
      "cell_type": "code",
      "source": [
        "title"
      ],
      "metadata": {
        "id": "h-p9S-W1Nmb8"
      },
      "execution_count": null,
      "outputs": []
    },
    {
      "cell_type": "code",
      "source": [
        "url"
      ],
      "metadata": {
        "id": "k7--7AzfP6Ma"
      },
      "execution_count": null,
      "outputs": []
    },
    {
      "cell_type": "code",
      "source": [
        "subtitle"
      ],
      "metadata": {
        "id": "u4OP9bSON2-K"
      },
      "execution_count": null,
      "outputs": []
    },
    {
      "cell_type": "code",
      "source": [
        "location"
      ],
      "metadata": {
        "id": "bFuBm8PzN5Op"
      },
      "execution_count": null,
      "outputs": []
    },
    {
      "cell_type": "code",
      "source": [
        "dados = [];"
      ],
      "metadata": {
        "id": "D6VvfxIfbzqm"
      },
      "execution_count": 256,
      "outputs": []
    },
    {
      "cell_type": "code",
      "source": [
        "for index, val in enumerate(title):\n",
        "    dados.append({'title':title[index], 'url':url[index], 'subtitle':subtitle[index] , 'location':location[index] })"
      ],
      "metadata": {
        "id": "6yKwM_F2ZY6F"
      },
      "execution_count": 257,
      "outputs": []
    },
    {
      "cell_type": "code",
      "source": [
        "dados"
      ],
      "metadata": {
        "id": "oRoqrH04cFNV"
      },
      "execution_count": null,
      "outputs": []
    }
  ]
}