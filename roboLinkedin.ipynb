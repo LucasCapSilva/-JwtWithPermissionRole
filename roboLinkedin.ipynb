{
  "nbformat": 4,
  "nbformat_minor": 0,
  "metadata": {
    "colab": {
      "provenance": [],
      "authorship_tag": "ABX9TyPR2u5VhqRtAS6jOP8IsA5U",
      "include_colab_link": true
    },
    "kernelspec": {
      "name": "python3",
      "display_name": "Python 3"
    },
    "language_info": {
      "name": "python"
    }
  },
  "cells": [
    {
      "cell_type": "markdown",
      "metadata": {
        "id": "view-in-github",
        "colab_type": "text"
      },
      "source": [
        "<a href=\"https://colab.research.google.com/github/LucasCapSilva/-JwtWithPermissionRole/blob/master/roboLinkedin.ipynb\" target=\"_parent\"><img src=\"https://colab.research.google.com/assets/colab-badge.svg\" alt=\"Open In Colab\"/></a>"
      ]
    },
    {
      "cell_type": "code",
      "execution_count": 103,
      "metadata": {
        "id": "ZSLelqbZBi6f",
        "colab": {
          "base_uri": "https://localhost:8080/"
        },
        "outputId": "07d009ca-e7c0-4e73-da2f-c9468fda15e7"
      },
      "outputs": [
        {
          "output_type": "stream",
          "name": "stderr",
          "text": [
            "[nltk_data] Downloading package punkt to /root/nltk_data...\n",
            "[nltk_data]   Package punkt is already up-to-date!\n"
          ]
        },
        {
          "output_type": "execute_result",
          "data": {
            "text/plain": [
              "True"
            ]
          },
          "metadata": {},
          "execution_count": 103
        }
      ],
      "source": [
        "from bs4 import BeautifulSoup as bs\n",
        "import requests\n",
        "import re\n",
        "import nltk\n",
        "from nltk import word_tokenize\n",
        "from nltk.text import Text\n",
        "\n",
        "nltk.download('punkt')"
      ]
    },
    {
      "cell_type": "code",
      "source": [
        "title = []\n",
        "subtitle = []\n",
        "location = []\n",
        "dados = []\n",
        "url= []\n",
        "link = ''"
      ],
      "metadata": {
        "id": "y9tkPJj8BlYS"
      },
      "execution_count": 104,
      "outputs": []
    },
    {
      "cell_type": "code",
      "source": [
        "def search_vacancies(tecnology,location_send,experience_level,num_page):\n",
        "  text =\"\"\n",
        "  text_seniority_level =\"\"\n",
        "  text_employment_type =\"\"\n",
        "  text_job_function=\"\"\n",
        "  text_industries=\"\"\n",
        "  time_vacancies = \"\"\n",
        "  for x in range(num_page):\n",
        "    title = []\n",
        "    subtitle = []\n",
        "    location = []\n",
        "    url= []\n",
        "    link = 'https://www.linkedin.com/jobs/search?keywords='+tecnology+'&location'+location_send+'&locationId=&geoId=106057199&f_TPR=&f_E='+str(experience_level)+'&position=1&pageNum='+str(x)\n",
        "    res = requests.get(link) \n",
        "    soup = bs(res.text, 'lxml')\n",
        "    file = soup.find_all('h3', class_=\"base-search-card__title\") \n",
        "    for x in file:\n",
        "        title.append(x.text.strip())\n",
        "    file = soup.find_all('a', class_=\"base-card__full-link absolute top-0 right-0 bottom-0 left-0 p-0 z-[2]\")\n",
        "    for x in file:\n",
        "        url.append(x['href'])\n",
        "    file = soup.find_all('h4', class_=\"base-search-card__subtitle\")\n",
        "    for x in file:\n",
        "        subtitle.append(x.text.strip())\n",
        "    file = soup.find_all('span', class_=\"job-search-card__location\")\n",
        "    for x in file:\n",
        "        location.append(x.text.strip())\n",
        "    for index, val in enumerate(title):\n",
        "      res = requests.get(url[index]) \n",
        "      soup = bs(res.text, 'lxml')\n",
        "      text = \"\"\n",
        "      file = soup.find_all('div', class_=\"show-more-less-html__markup\")\n",
        "      for x in file:\n",
        "          text = text + x.text.strip()\n",
        "      for row in soup.find_all('ul', class_=\"description__job-criteria-list\"):\n",
        "          text_seniority_level = row('span')[0].text.strip()\n",
        "      for row in soup.find_all('ul', class_=\"description__job-criteria-list\"):\n",
        "          text_employment_type = row('span')[1].text.strip()\n",
        "      for row in soup.find_all('ul', class_=\"description__job-criteria-list\"):\n",
        "          text_job_function = row('span')[2].text.strip()\n",
        "      for row in soup.find_all('ul', class_=\"description__job-criteria-list\"):\n",
        "          text_industries = row('span')[3].text.strip()\n",
        "      file = soup.find_all('span', class_=\"posted-time-ago__text posted-time-ago__text--new topcard__flavor--metadata\")\n",
        "      for x in file:\n",
        "          time_vacancies = x.text.strip()\n",
        "      dados.append({'title':title[index], 'seniorityLevel':text_seniority_level,'jobFunction':text_job_function, 'employmentType':text_employment_type, 'industries':text_industries,'timeVacancies':time_vacancies ,'content':text, 'subtitle':subtitle[index] , 'location':location[index] })"
      ],
      "metadata": {
        "id": "wdOmU6xVrJIK"
      },
      "execution_count": 105,
      "outputs": []
    },
    {
      "cell_type": "code",
      "source": [
        "search_vacancies('java','brazil',3,10)"
      ],
      "metadata": {
        "id": "5itoKmyeqGew"
      },
      "execution_count": 106,
      "outputs": []
    },
    {
      "cell_type": "code",
      "source": [
        "dados[100]"
      ],
      "metadata": {
        "id": "0lzvW0HA0gOG"
      },
      "execution_count": null,
      "outputs": []
    },
    {
      "cell_type": "code",
      "source": [
        "len(dados)"
      ],
      "metadata": {
        "colab": {
          "base_uri": "https://localhost:8080/"
        },
        "id": "eve_O7_oCzAy",
        "outputId": "ce22b725-d1c3-42ad-fa60-1038f87c249e"
      },
      "execution_count": 107,
      "outputs": [
        {
          "output_type": "execute_result",
          "data": {
            "text/plain": [
              "175"
            ]
          },
          "metadata": {},
          "execution_count": 107
        }
      ]
    },
    {
      "cell_type": "code",
      "source": [
        "search = word_tokenize(dados[100]['content'].lower())"
      ],
      "metadata": {
        "id": "x3CmNSnTE9te"
      },
      "execution_count": 108,
      "outputs": []
    },
    {
      "cell_type": "code",
      "source": [
        "text = Text(search)"
      ],
      "metadata": {
        "id": "aK3nhxK1GY7H"
      },
      "execution_count": 109,
      "outputs": []
    },
    {
      "cell_type": "code",
      "source": [
        "text.count('ci/cd')"
      ],
      "metadata": {
        "colab": {
          "base_uri": "https://localhost:8080/"
        },
        "id": "Doth8E1lIROj",
        "outputId": "d6a75ef0-5ad1-4939-d737-c2bf3f2471f5"
      },
      "execution_count": 112,
      "outputs": [
        {
          "output_type": "execute_result",
          "data": {
            "text/plain": [
              "1"
            ]
          },
          "metadata": {},
          "execution_count": 112
        }
      ]
    },
    {
      "cell_type": "code",
      "source": [],
      "metadata": {
        "id": "zuIGYOhfP6jU"
      },
      "execution_count": null,
      "outputs": []
    }
  ]
}