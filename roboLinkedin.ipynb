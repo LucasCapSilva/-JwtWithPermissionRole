{
  "nbformat": 4,
  "nbformat_minor": 0,
  "metadata": {
    "colab": {
      "provenance": [],
      "authorship_tag": "ABX9TyOYOnSnDorMxrKi1S9J4x42",
      "include_colab_link": true
    },
    "kernelspec": {
      "name": "python3",
      "display_name": "Python 3"
    },
    "language_info": {
      "name": "python"
    }
  },
  "cells": [
    {
      "cell_type": "markdown",
      "metadata": {
        "id": "view-in-github",
        "colab_type": "text"
      },
      "source": [
        "<a href=\"https://colab.research.google.com/github/LucasCapSilva/-JwtWithPermissionRole/blob/master/roboLinkedin.ipynb\" target=\"_parent\"><img src=\"https://colab.research.google.com/assets/colab-badge.svg\" alt=\"Open In Colab\"/></a>"
      ]
    },
    {
      "cell_type": "code",
      "execution_count": 85,
      "metadata": {
        "id": "ZSLelqbZBi6f"
      },
      "outputs": [],
      "source": [
        "from bs4 import BeautifulSoup as bs\n",
        "import requests\n",
        "import re"
      ]
    },
    {
      "cell_type": "code",
      "source": [
        "title = []\n",
        "subtitle = []\n",
        "location = []\n",
        "dados = []\n",
        "url= []\n",
        "link = ''"
      ],
      "metadata": {
        "id": "y9tkPJj8BlYS"
      },
      "execution_count": 86,
      "outputs": []
    },
    {
      "cell_type": "code",
      "source": [
        "def search_vacancies(tecnology,location_send,experience_level,num_page):\n",
        "  text =\"\"\n",
        "  text_seniority_level =\"\"\n",
        "  text_employment_type =\"\"\n",
        "  text_job_function=\"\"\n",
        "  text_industries=\"\"\n",
        "  time_vacancies = \"\"\n",
        "  for x in range(num_page):\n",
        "    title = []\n",
        "    subtitle = []\n",
        "    location = []\n",
        "    url= []\n",
        "    link = 'https://www.linkedin.com/jobs/search?keywords='+tecnology+'&location'+location_send+'&locationId=&geoId=106057199&f_TPR=&f_E='+str(experience_level)+'&position=1&pageNum='+str(x)\n",
        "    res = requests.get(link) \n",
        "    soup = bs(res.text, 'lxml')\n",
        "    file = soup.find_all('h3', class_=\"base-search-card__title\") \n",
        "    for x in file:\n",
        "        title.append(x.text.strip())\n",
        "    file = soup.find_all('a', class_=\"base-card__full-link absolute top-0 right-0 bottom-0 left-0 p-0 z-[2]\")\n",
        "    for x in file:\n",
        "        url.append(x['href'])\n",
        "    file = soup.find_all('h4', class_=\"base-search-card__subtitle\")\n",
        "    for x in file:\n",
        "        subtitle.append(x.text.strip())\n",
        "    file = soup.find_all('span', class_=\"job-search-card__location\")\n",
        "    for x in file:\n",
        "        location.append(x.text.strip())\n",
        "    for index, val in enumerate(title):\n",
        "      res = requests.get(url[index]) \n",
        "      soup = bs(res.text, 'lxml')\n",
        "      text = \"- \"\n",
        "      file = soup.find_all('div', class_=\"show-more-less-html__markup\")\n",
        "      for x in file:\n",
        "          text = text + x.text.strip()\n",
        "      for row in soup.find_all('ul', class_=\"description__job-criteria-list\"):\n",
        "          text_seniority_level = row('span')[0].text.strip()\n",
        "      for row in soup.find_all('ul', class_=\"description__job-criteria-list\"):\n",
        "          text_employment_type = row('span')[1].text.strip()\n",
        "      for row in soup.find_all('ul', class_=\"description__job-criteria-list\"):\n",
        "          text_job_function = row('span')[2].text.strip()\n",
        "      for row in soup.find_all('ul', class_=\"description__job-criteria-list\"):\n",
        "          text_industries = row('span')[3].text.strip()\n",
        "      file = soup.find_all('span', class_=\"posted-time-ago__text posted-time-ago__text--new topcard__flavor--metadata\")\n",
        "      for x in file:\n",
        "          time_vacancies = x.text.strip()\n",
        "      dados.append({'title':title[index], 'seniorityLevel':text_seniority_level,'jobFunction':text_job_function, 'employmentType':text_employment_type, 'industries':text_industries,'timeVacancies':time_vacancies ,'content':text, 'subtitle':subtitle[index] , 'location':location[index] })"
      ],
      "metadata": {
        "id": "wdOmU6xVrJIK"
      },
      "execution_count": 87,
      "outputs": []
    },
    {
      "cell_type": "code",
      "source": [
        "search_vacancies('java','brazil',3,1)"
      ],
      "metadata": {
        "id": "5itoKmyeqGew"
      },
      "execution_count": 88,
      "outputs": []
    },
    {
      "cell_type": "code",
      "source": [
        "dados[2]"
      ],
      "metadata": {
        "colab": {
          "base_uri": "https://localhost:8080/"
        },
        "id": "0lzvW0HA0gOG",
        "outputId": "057f1d5f-8c14-45ff-cdd3-0de042b41c8a"
      },
      "execution_count": 89,
      "outputs": [
        {
          "output_type": "execute_result",
          "data": {
            "text/plain": [
              "{'title': 'Desenvolvedor Java Fullstack Jr.',\n",
              " 'seniorityLevel': 'Júnior',\n",
              " 'jobFunction': 'Engenharia e Tecnologia da informação',\n",
              " 'employmentType': 'Tempo integral',\n",
              " 'industries': 'Serviços e consultoria de TI',\n",
              " 'timeVacancies': 'Há 25 minutos',\n",
              " 'content': '- É Juninho ou Juninha e tem MUITA vontade de se desenvolver e atuar em um mega projeto? Se disse sim, essa é a sua vaga!Contratação: PJ.Atuação PRESENCIAL em BH - Nova Lima - Vila da SerraQuais serão suas atividades:- Desenvolvimento de aplicações em JAVA, usando banco de dados relacional;- Desenvolvimento de API;- Desenvolvimento e acompanhamento de implantação de sistemas gerais baseados em requisitos e funcionalidades, com qualidade técnica.- Experiência em SQL Server tanto na extração de dados quanto na definição de dados (create, drop, alter) e manipulação de dados (insert, update, delete);- Experiência na criação/manutenção de objetos personalizados no banco de dados SQL Server (trigger, procedure, view, function).O que buscamos em você:- Conhecimentos de metodologias ágeis (SCRUM, Kanban), estimativas de software, técnicas de priorização, story points, User Storys;- Conhecimento das ferramentas de colaboração Confluence e Jira Software;- Conhecimentos sobre arquitetura de software (Frontend, Backend);- Conhecimentos de stacks tecnológicas: JAVA, Angular, Javascript, Banco Relacional;- Conhecimentos de desenvolvimento de microserviços, webapi, API Restful;- Conhecimentos em HTML5, CSS3, Bootstrap, Components;- Conhecimento de versionamento com Git / Azure DevOps;- Desenvolver e implantar sistemas baseados em requisitos e funcionalidades, com qualidade técnica.E ai, deu match com a posição?Se candidata e espero falar contigo em breve! 🚀🚀',\n",
              " 'subtitle': 'IVORY TALENT',\n",
              " 'location': 'Nova Lima, Minas Gerais, Brazil'}"
            ]
          },
          "metadata": {},
          "execution_count": 89
        }
      ]
    },
    {
      "cell_type": "code",
      "source": [
        "len(dados)"
      ],
      "metadata": {
        "colab": {
          "base_uri": "https://localhost:8080/"
        },
        "id": "eve_O7_oCzAy",
        "outputId": "77e6dc95-37d2-4ff5-d957-bff9d7ae361c"
      },
      "execution_count": 424,
      "outputs": [
        {
          "output_type": "execute_result",
          "data": {
            "text/plain": [
              "1200"
            ]
          },
          "metadata": {},
          "execution_count": 424
        }
      ]
    }
  ]
}