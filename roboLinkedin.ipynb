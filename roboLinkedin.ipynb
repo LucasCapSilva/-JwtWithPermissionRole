{
  "nbformat": 4,
  "nbformat_minor": 0,
  "metadata": {
    "colab": {
      "provenance": [],
      "authorship_tag": "ABX9TyMhP4/yiRh3+WqEHFy0StKB",
      "include_colab_link": true
    },
    "kernelspec": {
      "name": "python3",
      "display_name": "Python 3"
    },
    "language_info": {
      "name": "python"
    }
  },
  "cells": [
    {
      "cell_type": "markdown",
      "metadata": {
        "id": "view-in-github",
        "colab_type": "text"
      },
      "source": [
        "<a href=\"https://colab.research.google.com/github/LucasCapSilva/-JwtWithPermissionRole/blob/master/roboLinkedin.ipynb\" target=\"_parent\"><img src=\"https://colab.research.google.com/assets/colab-badge.svg\" alt=\"Open In Colab\"/></a>"
      ]
    },
    {
      "cell_type": "code",
      "execution_count": 489,
      "metadata": {
        "id": "ZSLelqbZBi6f"
      },
      "outputs": [],
      "source": [
        "from bs4 import BeautifulSoup as bs\n",
        "import requests\n",
        "import re"
      ]
    },
    {
      "cell_type": "code",
      "source": [
        "title = []\n",
        "subtitle = []\n",
        "location = []\n",
        "dados = []\n",
        "url= []\n",
        "link = ''"
      ],
      "metadata": {
        "id": "y9tkPJj8BlYS"
      },
      "execution_count": 557,
      "outputs": []
    },
    {
      "cell_type": "code",
      "source": [
        "def search_vacancies(tecnology,location_send,experience_level,num_page):\n",
        "  text =\"\"\n",
        "  for x in range(num_page):\n",
        "    title = []\n",
        "    subtitle = []\n",
        "    location = []\n",
        "    url= []\n",
        "    link = 'https://www.linkedin.com/jobs/search?keywords='+tecnology+'&location'+location_send+'&locationId=&geoId=106057199&f_TPR=&f_E='+str(experience_level)+'&position=1&pageNum='+str(x)\n",
        "    res = requests.get(link) \n",
        "    soup = bs(res.text, 'lxml')\n",
        "    file = soup.find_all('h3', class_=\"base-search-card__title\") \n",
        "    for x in file:\n",
        "        title.append(x.text.strip())\n",
        "    file = soup.find_all('a', class_=\"base-card__full-link absolute top-0 right-0 bottom-0 left-0 p-0 z-[2]\")\n",
        "    for x in file:\n",
        "        url.append(x['href'])\n",
        "    file = soup.find_all('h4', class_=\"base-search-card__subtitle\")\n",
        "    for x in file:\n",
        "        subtitle.append(x.text.strip())\n",
        "    file = soup.find_all('span', class_=\"job-search-card__location\")\n",
        "    for x in file:\n",
        "        location.append(x.text.strip())\n",
        "    for index, val in enumerate(title):\n",
        "      res = requests.get(url[index]) \n",
        "      soup = bs(res.text, 'lxml')\n",
        "      file = soup.find_all('li')\n",
        "      for x in file:\n",
        "          text = text + x.text.strip()\n",
        "      dados.append({'title':title[index], 'content':text, 'subtitle':subtitle[index] , 'location':location[index] })"
      ],
      "metadata": {
        "id": "wdOmU6xVrJIK"
      },
      "execution_count": 558,
      "outputs": []
    },
    {
      "cell_type": "code",
      "source": [
        "search_vacancies('java','brazil',4,10)"
      ],
      "metadata": {
        "id": "5itoKmyeqGew"
      },
      "execution_count": 561,
      "outputs": []
    },
    {
      "cell_type": "code",
      "source": [
        "dados[6]"
      ],
      "metadata": {
        "id": "0lzvW0HA0gOG"
      },
      "execution_count": null,
      "outputs": []
    },
    {
      "cell_type": "code",
      "source": [
        "len(dados)"
      ],
      "metadata": {
        "id": "eve_O7_oCzAy",
        "outputId": "21e0e2f8-ab52-4d7e-d816-19eb5b7441f0",
        "colab": {
          "base_uri": "https://localhost:8080/"
        }
      },
      "execution_count": 562,
      "outputs": [
        {
          "output_type": "execute_result",
          "data": {
            "text/plain": [
              "75"
            ]
          },
          "metadata": {},
          "execution_count": 562
        }
      ]
    }
  ]
}